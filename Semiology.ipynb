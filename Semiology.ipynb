{
 "cells": [
  {
   "cell_type": "markdown",
   "metadata": {},
   "source": [
    "# Semiology of Graphics "
   ]
  },
  {
   "cell_type": "markdown",
   "metadata": {},
   "source": [
    "## Chapter 1.\n",
    "\n",
    "#### 1 According to the book, how information is defined?\n",
    "It is a series of correspondences observed within a finite set of variational concepts of components.\n",
    "\n",
    "#### 2 When a component is ordered?\n",
    "When its categories are ordered in a single and universal manner, and when its categories are defined as equidistant.\n",
    "\n",
    "\n",
    "#### 3 When a component is quantitative?\n",
    "When its object is to specify the variation in distance among the categories. \n",
    "\n",
    "#### 4 How does efficiency is described according to its preposition?\n",
    "If, in order to obtain a correct and complete answerto a given question,all other things being equal, one construction requires a shorter period of perception than another construction, we can Say thatit is more efficient for this question.\n",
    "\n",
    "\n",
    "#### 5 Mention the three levels of organization of a component?\n",
    "Qualitative, ordered, or quantitative. \n",
    "\n",
    "#### 6 When a component is quantitative?\n",
    "When its object is to specify the variation in distance among the categories. \n",
    "\n",
    "## Chapter 2. \n",
    "\n",
    "#### 1 When is used ordered perception?\n",
    "It is used when we are comparing two or several orders.\n",
    "\n",
    "#### 2 When is used quantitative perception?\n",
    "It is used when we are seekking to define numerically the ratio between two signs. Also when we seek to group homogeneous signs.\n",
    "\n",
    "\n",
    "#### 3 Mention the 4 leves of a variable\n",
    "Selective, associative, ordered, and quantitative. \n",
    "\n",
    "#### 4 What is a point? \n",
    "It is a location on the plane that has no theoretical length or area.\n",
    "\n",
    "#### 5 What signifies area according to the book?\n",
    "It is something on the plane that has a measurable size.\n",
    "\n",
    "#### 6 What does the frame of a graphic delimits of?\n",
    "It delimits the signifying space, but it does not necessarily delimit the phenomenon."
   ]
  }
 ],
 "metadata": {
  "kernelspec": {
   "display_name": "Python 3",
   "language": "python",
   "name": "python3"
  },
  "language_info": {
   "codemirror_mode": {
    "name": "ipython",
    "version": 3
   },
   "file_extension": ".py",
   "mimetype": "text/x-python",
   "name": "python",
   "nbconvert_exporter": "python",
   "pygments_lexer": "ipython3",
   "version": "3.7.6"
  }
 },
 "nbformat": 4,
 "nbformat_minor": 4
}
